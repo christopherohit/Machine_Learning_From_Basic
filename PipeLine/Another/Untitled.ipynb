{
 "cells": [
  {
   "cell_type": "code",
   "execution_count": 9,
   "id": "133783e8",
   "metadata": {},
   "outputs": [],
   "source": [
    "from sklearn import tree\n",
    "import pandas as pd\n",
    "from sklearn.tree import DecisionTreeClassifier\n",
    "\n",
    "data = pd.read_csv('music.csv')\n",
    "x = data.drop(columns=['genre'])\n",
    "y = data['genre']\n",
    "\n",
    "model = DecisionTreeClassifier()\n",
    "model.fit(x ,y)\n",
    "\n",
    "tree.export_graphviz(model, out_file = 'chart_music_recommended.dot',\n",
    "            feature_names = ['age' , 'gender'],\n",
    "            class_names = sorted(y.unique()),\n",
    "            label = 'all',\n",
    "            rounded = True,\n",
    "            filled = True)"
   ]
  },
  {
   "cell_type": "code",
   "execution_count": null,
   "id": "120181a5",
   "metadata": {},
   "outputs": [],
   "source": []
  }
 ],
 "metadata": {
  "kernelspec": {
   "display_name": "Python 3",
   "language": "python",
   "name": "python3"
  },
  "language_info": {
   "codemirror_mode": {
    "name": "ipython",
    "version": 3
   },
   "file_extension": ".py",
   "mimetype": "text/x-python",
   "name": "python",
   "nbconvert_exporter": "python",
   "pygments_lexer": "ipython3",
   "version": "3.9.5"
  }
 },
 "nbformat": 4,
 "nbformat_minor": 5
}
